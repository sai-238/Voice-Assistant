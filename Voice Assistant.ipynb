{
 "cells": [
  {
   "cell_type": "code",
   "execution_count": 1,
   "metadata": {},
   "outputs": [
    {
     "name": "stdout",
     "output_type": "stream",
     "text": [
      "Requirement already satisfied: wolframalpha in c:\\users\\saipr\\appdata\\local\\programs\\python\\python311\\lib\\site-packages (5.0.0)\n",
      "Requirement already satisfied: xmltodict in c:\\users\\saipr\\appdata\\local\\programs\\python\\python311\\lib\\site-packages (from wolframalpha) (0.13.0)\n",
      "Requirement already satisfied: more-itertools in c:\\users\\saipr\\appdata\\local\\programs\\python\\python311\\lib\\site-packages (from wolframalpha) (9.1.0)\n",
      "Requirement already satisfied: jaraco.context in c:\\users\\saipr\\appdata\\local\\programs\\python\\python311\\lib\\site-packages (from wolframalpha) (4.3.0)\n",
      "Note: you may need to restart the kernel to use updated packages.\n"
     ]
    },
    {
     "name": "stderr",
     "output_type": "stream",
     "text": [
      "\n",
      "[notice] A new release of pip available: 22.3.1 -> 23.1.2\n",
      "[notice] To update, run: python.exe -m pip install --upgrade pip\n"
     ]
    }
   ],
   "source": [
    "pip install wolframalpha"
   ]
  },
  {
   "cell_type": "code",
   "execution_count": 2,
   "metadata": {},
   "outputs": [
    {
     "name": "stdout",
     "output_type": "stream",
     "text": [
      "Requirement already satisfied: winshell in c:\\users\\saipr\\appdata\\local\\programs\\python\\python311\\lib\\site-packages (0.6)\n",
      "Note: you may need to restart the kernel to use updated packages.\n"
     ]
    },
    {
     "name": "stderr",
     "output_type": "stream",
     "text": [
      "\n",
      "[notice] A new release of pip available: 22.3.1 -> 23.1.2\n",
      "[notice] To update, run: python.exe -m pip install --upgrade pip\n"
     ]
    }
   ],
   "source": [
    "pip install winshell"
   ]
  },
  {
   "cell_type": "code",
   "execution_count": 3,
   "metadata": {},
   "outputs": [
    {
     "name": "stdout",
     "output_type": "stream",
     "text": [
      "Collecting pyjokesNote: you may need to restart the kernel to use updated packages.\n",
      "\n",
      "  Downloading pyjokes-0.6.0-py2.py3-none-any.whl (26 kB)\n",
      "Installing collected packages: pyjokes\n",
      "Successfully installed pyjokes-0.6.0\n"
     ]
    },
    {
     "name": "stderr",
     "output_type": "stream",
     "text": [
      "\n",
      "[notice] A new release of pip available: 22.3.1 -> 23.1.2\n",
      "[notice] To update, run: python.exe -m pip install --upgrade pip\n"
     ]
    }
   ],
   "source": [
    "pip install pyjokes"
   ]
  },
  {
   "cell_type": "code",
   "execution_count": 4,
   "metadata": {},
   "outputs": [
    {
     "name": "stdout",
     "output_type": "stream",
     "text": [
      "Collecting feedparser\n",
      "  Downloading feedparser-6.0.10-py3-none-any.whl (81 kB)\n",
      "     ---------------------------------------- 81.1/81.1 kB 2.2 MB/s eta 0:00:00\n",
      "Collecting sgmllib3k\n",
      "  Downloading sgmllib3k-1.0.0.tar.gz (5.8 kB)\n",
      "  Preparing metadata (setup.py): started\n",
      "  Preparing metadata (setup.py): finished with status 'done'\n",
      "Installing collected packages: sgmllib3k, feedparser\n",
      "  Running setup.py install for sgmllib3k: started\n",
      "  Running setup.py install for sgmllib3k: finished with status 'done'\n",
      "Successfully installed feedparser-6.0.10 sgmllib3k-1.0.0\n",
      "Note: you may need to restart the kernel to use updated packages.\n"
     ]
    },
    {
     "name": "stderr",
     "output_type": "stream",
     "text": [
      "  DEPRECATION: sgmllib3k is being installed using the legacy 'setup.py install' method, because it does not have a 'pyproject.toml' and the 'wheel' package is not installed. pip 23.1 will enforce this behaviour change. A possible replacement is to enable the '--use-pep517' option. Discussion can be found at https://github.com/pypa/pip/issues/8559\n",
      "\n",
      "[notice] A new release of pip available: 22.3.1 -> 23.1.2\n",
      "[notice] To update, run: python.exe -m pip install --upgrade pip\n"
     ]
    }
   ],
   "source": [
    "pip install feedparser"
   ]
  },
  {
   "cell_type": "code",
   "execution_count": 5,
   "metadata": {},
   "outputs": [
    {
     "name": "stdout",
     "output_type": "stream",
     "text": [
      "Collecting twilio\n",
      "  Downloading twilio-8.2.0-py2.py3-none-any.whl (1.7 MB)\n",
      "     ---------------------------------------- 1.7/1.7 MB 2.1 MB/s eta 0:00:00\n",
      "Collecting pytz\n",
      "  Downloading pytz-2023.3-py2.py3-none-any.whl (502 kB)\n",
      "     -------------------------------------- 502.3/502.3 kB 1.4 MB/s eta 0:00:00\n",
      "Collecting requests>=2.0.0\n",
      "  Downloading requests-2.30.0-py3-none-any.whl (62 kB)\n",
      "     ---------------------------------------- 62.5/62.5 kB 3.3 MB/s eta 0:00:00\n",
      "Collecting PyJWT<3.0.0,>=2.0.0\n",
      "  Downloading PyJWT-2.7.0-py3-none-any.whl (22 kB)\n",
      "Collecting aiohttp>=3.8.4\n",
      "  Downloading aiohttp-3.8.4-cp311-cp311-win_amd64.whl (317 kB)\n",
      "     ------------------------------------ 317.2/317.2 kB 785.1 kB/s eta 0:00:00\n",
      "Collecting aiohttp-retry>=2.8.3\n",
      "  Downloading aiohttp_retry-2.8.3-py3-none-any.whl (9.8 kB)\n",
      "Collecting attrs>=17.3.0\n",
      "  Downloading attrs-23.1.0-py3-none-any.whl (61 kB)\n",
      "     -------------------------------------- 61.2/61.2 kB 808.3 kB/s eta 0:00:00\n",
      "Collecting charset-normalizer<4.0,>=2.0\n",
      "  Downloading charset_normalizer-3.1.0-cp311-cp311-win_amd64.whl (96 kB)\n",
      "     -------------------------------------- 96.7/96.7 kB 919.7 kB/s eta 0:00:00\n",
      "Collecting multidict<7.0,>=4.5\n",
      "  Downloading multidict-6.0.4-cp311-cp311-win_amd64.whl (28 kB)\n",
      "Collecting async-timeout<5.0,>=4.0.0a3\n",
      "  Downloading async_timeout-4.0.2-py3-none-any.whl (5.8 kB)\n",
      "Collecting yarl<2.0,>=1.0\n",
      "  Downloading yarl-1.9.2-cp311-cp311-win_amd64.whl (60 kB)\n",
      "     -------------------------------------- 60.2/60.2 kB 793.2 kB/s eta 0:00:00\n",
      "Collecting frozenlist>=1.1.1\n",
      "  Downloading frozenlist-1.3.3-cp311-cp311-win_amd64.whl (32 kB)\n",
      "Collecting aiosignal>=1.1.2\n",
      "  Downloading aiosignal-1.3.1-py3-none-any.whl (7.6 kB)\n",
      "Collecting idna<4,>=2.5\n",
      "  Downloading idna-3.4-py3-none-any.whl (61 kB)\n",
      "     -------------------------------------- 61.5/61.5 kB 827.4 kB/s eta 0:00:00\n",
      "Collecting urllib3<3,>=1.21.1\n",
      "  Downloading urllib3-2.0.2-py3-none-any.whl (123 kB)\n",
      "     -------------------------------------- 123.2/123.2 kB 1.2 MB/s eta 0:00:00\n",
      "Collecting certifi>=2017.4.17\n",
      "  Downloading certifi-2023.5.7-py3-none-any.whl (156 kB)\n",
      "     -------------------------------------- 157.0/157.0 kB 1.3 MB/s eta 0:00:00\n",
      "Installing collected packages: pytz, urllib3, PyJWT, multidict, idna, frozenlist, charset-normalizer, certifi, attrs, async-timeout, yarl, requests, aiosignal, aiohttp, aiohttp-retry, twilio\n",
      "Successfully installed PyJWT-2.7.0 aiohttp-3.8.4 aiohttp-retry-2.8.3 aiosignal-1.3.1 async-timeout-4.0.2 attrs-23.1.0 certifi-2023.5.7 charset-normalizer-3.1.0 frozenlist-1.3.3 idna-3.4 multidict-6.0.4 pytz-2023.3 requests-2.30.0 twilio-8.2.0 urllib3-2.0.2 yarl-1.9.2\n",
      "Note: you may need to restart the kernel to use updated packages.\n"
     ]
    },
    {
     "name": "stderr",
     "output_type": "stream",
     "text": [
      "\n",
      "[notice] A new release of pip available: 22.3.1 -> 23.1.2\n",
      "[notice] To update, run: python.exe -m pip install --upgrade pip\n"
     ]
    }
   ],
   "source": [
    "pip install twilio"
   ]
  },
  {
   "cell_type": "code",
   "execution_count": 6,
   "metadata": {},
   "outputs": [
    {
     "name": "stdout",
     "output_type": "stream",
     "text": [
      "Collecting clint\n",
      "  Downloading clint-0.5.1.tar.gz (29 kB)\n",
      "  Preparing metadata (setup.py): started\n",
      "  Preparing metadata (setup.py): finished with status 'done'\n",
      "Collecting args\n",
      "  Downloading args-0.1.0.tar.gz (3.0 kB)\n",
      "  Preparing metadata (setup.py): started\n",
      "  Preparing metadata (setup.py): finished with status 'done'\n",
      "Installing collected packages: args, clint\n",
      "  Running setup.py install for args: started\n",
      "  Running setup.py install for args: finished with status 'done'\n",
      "  Running setup.py install for clint: started\n",
      "  Running setup.py install for clint: finished with status 'done'\n",
      "Successfully installed args-0.1.0 clint-0.5.1\n",
      "Note: you may need to restart the kernel to use updated packages.\n"
     ]
    },
    {
     "name": "stderr",
     "output_type": "stream",
     "text": [
      "  DEPRECATION: args is being installed using the legacy 'setup.py install' method, because it does not have a 'pyproject.toml' and the 'wheel' package is not installed. pip 23.1 will enforce this behaviour change. A possible replacement is to enable the '--use-pep517' option. Discussion can be found at https://github.com/pypa/pip/issues/8559\n",
      "  DEPRECATION: clint is being installed using the legacy 'setup.py install' method, because it does not have a 'pyproject.toml' and the 'wheel' package is not installed. pip 23.1 will enforce this behaviour change. A possible replacement is to enable the '--use-pep517' option. Discussion can be found at https://github.com/pypa/pip/issues/8559\n",
      "\n",
      "[notice] A new release of pip available: 22.3.1 -> 23.1.2\n",
      "[notice] To update, run: python.exe -m pip install --upgrade pip\n"
     ]
    }
   ],
   "source": [
    "pip install clint"
   ]
  },
  {
   "cell_type": "code",
   "execution_count": 7,
   "metadata": {},
   "outputs": [
    {
     "name": "stdout",
     "output_type": "stream",
     "text": [
      "Collecting ecaptureNote: you may need to restart the kernel to use updated packages.\n",
      "\n",
      "  Downloading ecapture-2.0.2-py3-none-any.whl (17 kB)\n",
      "Collecting opencv-python\n",
      "  Downloading opencv_python-4.7.0.72-cp37-abi3-win_amd64.whl (38.2 MB)\n",
      "     ---------------------------------------- 38.2/38.2 MB 1.7 MB/s eta 0:00:00\n",
      "Collecting numpy>=1.21.2\n",
      "  Downloading numpy-1.24.3-cp311-cp311-win_amd64.whl (14.8 MB)\n",
      "     -------------------------------------- 14.8/14.8 MB 928.3 kB/s eta 0:00:00\n",
      "Installing collected packages: numpy, opencv-python, ecapture\n",
      "Successfully installed ecapture-2.0.2 numpy-1.24.3 opencv-python-4.7.0.72\n"
     ]
    },
    {
     "name": "stderr",
     "output_type": "stream",
     "text": [
      "\n",
      "[notice] A new release of pip available: 22.3.1 -> 23.1.2\n",
      "[notice] To update, run: python.exe -m pip install --upgrade pip\n"
     ]
    }
   ],
   "source": [
    "pip install ecapture"
   ]
  },
  {
   "cell_type": "code",
   "execution_count": 8,
   "metadata": {},
   "outputs": [
    {
     "name": "stdout",
     "output_type": "stream",
     "text": [
      "Collecting pyttsx3\n",
      "  Downloading pyttsx3-2.90-py3-none-any.whl (39 kB)\n",
      "Collecting comtypes\n",
      "  Downloading comtypes-1.1.14-py2.py3-none-any.whl (172 kB)\n",
      "     -------------------------------------- 172.8/172.8 kB 5.2 MB/s eta 0:00:00\n",
      "Collecting pypiwin32\n",
      "  Downloading pypiwin32-223-py3-none-any.whl (1.7 kB)\n",
      "Requirement already satisfied: pywin32 in c:\\users\\saipr\\appdata\\roaming\\python\\python311\\site-packages (from pyttsx3) (306)\n",
      "Installing collected packages: comtypes, pypiwin32, pyttsx3\n",
      "Successfully installed comtypes-1.1.14 pypiwin32-223 pyttsx3-2.90\n",
      "Note: you may need to restart the kernel to use updated packages.\n"
     ]
    },
    {
     "name": "stderr",
     "output_type": "stream",
     "text": [
      "\n",
      "[notice] A new release of pip available: 22.3.1 -> 23.1.2\n",
      "[notice] To update, run: python.exe -m pip install --upgrade pip\n"
     ]
    }
   ],
   "source": [
    "pip install pyttsx3"
   ]
  },
  {
   "cell_type": "code",
   "execution_count": 9,
   "metadata": {},
   "outputs": [
    {
     "name": "stdout",
     "output_type": "stream",
     "text": [
      "Collecting winspeech\n",
      "  Downloading winspeech-1.0.1-py2.py3-none-any.whl (6.9 kB)\n",
      "Requirement already satisfied: pywin32 in c:\\users\\saipr\\appdata\\roaming\\python\\python311\\site-packages (from winspeech) (306)\n",
      "Installing collected packages: winspeech\n",
      "Successfully installed winspeech-1.0.1\n",
      "Note: you may need to restart the kernel to use updated packages.\n"
     ]
    },
    {
     "name": "stderr",
     "output_type": "stream",
     "text": [
      "\n",
      "[notice] A new release of pip available: 22.3.1 -> 23.1.2\n",
      "[notice] To update, run: python.exe -m pip install --upgrade pip\n"
     ]
    }
   ],
   "source": [
    "pip install winspeech\n"
   ]
  },
  {
   "cell_type": "code",
   "execution_count": 10,
   "metadata": {},
   "outputs": [
    {
     "name": "stdout",
     "output_type": "stream",
     "text": [
      "Collecting SpeechRecognition\n",
      "  Downloading SpeechRecognition-3.10.0-py2.py3-none-any.whl (32.8 MB)\n",
      "     ---------------------------------------- 32.8/32.8 MB 1.5 MB/s eta 0:00:00\n",
      "Requirement already satisfied: requests>=2.26.0 in c:\\users\\saipr\\appdata\\local\\programs\\python\\python311\\lib\\site-packages (from SpeechRecognition) (2.30.0)\n",
      "Requirement already satisfied: charset-normalizer<4,>=2 in c:\\users\\saipr\\appdata\\local\\programs\\python\\python311\\lib\\site-packages (from requests>=2.26.0->SpeechRecognition) (3.1.0)\n",
      "Requirement already satisfied: idna<4,>=2.5 in c:\\users\\saipr\\appdata\\local\\programs\\python\\python311\\lib\\site-packages (from requests>=2.26.0->SpeechRecognition) (3.4)\n",
      "Requirement already satisfied: urllib3<3,>=1.21.1 in c:\\users\\saipr\\appdata\\local\\programs\\python\\python311\\lib\\site-packages (from requests>=2.26.0->SpeechRecognition) (2.0.2)\n",
      "Requirement already satisfied: certifi>=2017.4.17 in c:\\users\\saipr\\appdata\\local\\programs\\python\\python311\\lib\\site-packages (from requests>=2.26.0->SpeechRecognition) (2023.5.7)\n",
      "Installing collected packages: SpeechRecognition\n",
      "Successfully installed SpeechRecognition-3.10.0\n",
      "Note: you may need to restart the kernel to use updated packages.\n"
     ]
    },
    {
     "name": "stderr",
     "output_type": "stream",
     "text": [
      "\n",
      "[notice] A new release of pip available: 22.3.1 -> 23.1.2\n",
      "[notice] To update, run: python.exe -m pip install --upgrade pip\n"
     ]
    }
   ],
   "source": [
    "pip install SpeechRecognition"
   ]
  },
  {
   "cell_type": "code",
   "execution_count": 11,
   "metadata": {},
   "outputs": [
    {
     "name": "stdout",
     "output_type": "stream",
     "text": [
      "Collecting rasa\n",
      "  Downloading rasa-1.10.2-py3-none-any.whl (510 kB)\n",
      "     -------------------------------------- 510.3/510.3 kB 4.6 MB/s eta 0:00:00\n",
      "Collecting PyJWT<1.8,>=1.7\n",
      "  Downloading PyJWT-1.7.1-py2.py3-none-any.whl (18 kB)\n",
      "Collecting SQLAlchemy<1.4.0,>=1.3.3\n",
      "  Downloading SQLAlchemy-1.3.24.tar.gz (6.4 MB)\n",
      "     ---------------------------------------- 6.4/6.4 MB 3.1 MB/s eta 0:00:00\n",
      "  Preparing metadata (setup.py): started\n",
      "  Preparing metadata (setup.py): finished with status 'done'\n",
      "Collecting absl-py<0.10,>=0.9\n",
      "  Downloading absl-py-0.9.0.tar.gz (104 kB)\n",
      "     -------------------------------------- 104.0/104.0 kB 2.0 MB/s eta 0:00:00\n",
      "  Preparing metadata (setup.py): started\n",
      "  Preparing metadata (setup.py): finished with status 'error'\n",
      "Note: you may need to restart the kernel to use updated packages.\n"
     ]
    },
    {
     "name": "stderr",
     "output_type": "stream",
     "text": [
      "  error: subprocess-exited-with-error\n",
      "  \n",
      "  × python setup.py egg_info did not run successfully.\n",
      "  │ exit code: 1\n",
      "  ╰─> [6 lines of output]\n",
      "      Traceback (most recent call last):\n",
      "        File \"<string>\", line 2, in <module>\n",
      "        File \"<pip-setuptools-caller>\", line 34, in <module>\n",
      "        File \"C:\\Users\\saipr\\AppData\\Local\\Temp\\pip-install-ly5a412g\\absl-py_7040840524a94abe900a46719a5bba3a\\setup.py\", line 34, in <module>\n",
      "          raise RuntimeError('Python version 2.7 or 3.4+ is required.')\n",
      "      RuntimeError: Python version 2.7 or 3.4+ is required.\n",
      "      [end of output]\n",
      "  \n",
      "  note: This error originates from a subprocess, and is likely not a problem with pip.\n",
      "error: metadata-generation-failed\n",
      "\n",
      "× Encountered error while generating package metadata.\n",
      "╰─> See above for output.\n",
      "\n",
      "note: This is an issue with the package mentioned above, not pip.\n",
      "hint: See above for details.\n",
      "\n",
      "[notice] A new release of pip available: 22.3.1 -> 23.1.2\n",
      "[notice] To update, run: python.exe -m pip install --upgrade pip\n"
     ]
    }
   ],
   "source": [
    "pip install rasa"
   ]
  },
  {
   "cell_type": "code",
   "execution_count": 12,
   "metadata": {},
   "outputs": [
    {
     "name": "stdout",
     "output_type": "stream",
     "text": [
      "Collecting wikipedia\n",
      "  Downloading wikipedia-1.4.0.tar.gz (27 kB)\n",
      "  Preparing metadata (setup.py): started\n",
      "  Preparing metadata (setup.py): finished with status 'done'\n",
      "Collecting beautifulsoup4\n",
      "  Downloading beautifulsoup4-4.12.2-py3-none-any.whl (142 kB)\n",
      "     -------------------------------------- 143.0/143.0 kB 4.3 MB/s eta 0:00:00\n",
      "Requirement already satisfied: requests<3.0.0,>=2.0.0 in c:\\users\\saipr\\appdata\\local\\programs\\python\\python311\\lib\\site-packages (from wikipedia) (2.30.0)\n",
      "Requirement already satisfied: charset-normalizer<4,>=2 in c:\\users\\saipr\\appdata\\local\\programs\\python\\python311\\lib\\site-packages (from requests<3.0.0,>=2.0.0->wikipedia) (3.1.0)\n",
      "Requirement already satisfied: idna<4,>=2.5 in c:\\users\\saipr\\appdata\\local\\programs\\python\\python311\\lib\\site-packages (from requests<3.0.0,>=2.0.0->wikipedia) (3.4)\n",
      "Requirement already satisfied: urllib3<3,>=1.21.1 in c:\\users\\saipr\\appdata\\local\\programs\\python\\python311\\lib\\site-packages (from requests<3.0.0,>=2.0.0->wikipedia) (2.0.2)\n",
      "Requirement already satisfied: certifi>=2017.4.17 in c:\\users\\saipr\\appdata\\local\\programs\\python\\python311\\lib\\site-packages (from requests<3.0.0,>=2.0.0->wikipedia) (2023.5.7)\n",
      "Collecting soupsieve>1.2\n",
      "  Downloading soupsieve-2.4.1-py3-none-any.whl (36 kB)\n",
      "Installing collected packages: soupsieve, beautifulsoup4, wikipedia\n",
      "  Running setup.py install for wikipedia: started\n",
      "  Running setup.py install for wikipedia: finished with status 'done'\n",
      "Successfully installed beautifulsoup4-4.12.2 soupsieve-2.4.1 wikipedia-1.4.0\n",
      "Note: you may need to restart the kernel to use updated packages.\n"
     ]
    },
    {
     "name": "stderr",
     "output_type": "stream",
     "text": [
      "  DEPRECATION: wikipedia is being installed using the legacy 'setup.py install' method, because it does not have a 'pyproject.toml' and the 'wheel' package is not installed. pip 23.1 will enforce this behaviour change. A possible replacement is to enable the '--use-pep517' option. Discussion can be found at https://github.com/pypa/pip/issues/8559\n",
      "\n",
      "[notice] A new release of pip available: 22.3.1 -> 23.1.2\n",
      "[notice] To update, run: python.exe -m pip install --upgrade pip\n"
     ]
    }
   ],
   "source": [
    "pip install wikipedia"
   ]
  },
  {
   "cell_type": "code",
   "execution_count": 17,
   "metadata": {},
   "outputs": [
    {
     "name": "stdout",
     "output_type": "stream",
     "text": [
      "Collecting pyAudio\n",
      "  Downloading PyAudio-0.2.13-cp311-cp311-win_amd64.whl (164 kB)\n",
      "                                              0.0/164.1 kB ? eta -:--:--\n",
      "     -------------------------------------- 164.1/164.1 kB 5.0 MB/s eta 0:00:00\n",
      "Installing collected packages: pyAudioNote: you may need to restart the kernel to use updated packages.\n",
      "Successfully installed pyAudio-0.2.13\n",
      "\n"
     ]
    }
   ],
   "source": [
    "pip install pyAudio"
   ]
  },
  {
   "cell_type": "code",
   "execution_count": 18,
   "metadata": {},
   "outputs": [
    {
     "name": "stdout",
     "output_type": "stream",
     "text": [
      "Requirement already satisfied: pip in c:\\users\\saipr\\appdata\\local\\programs\\python\\python311\\lib\\site-packages (23.1.2)Note: you may need to restart the kernel to use updated packages.\n",
      "\n"
     ]
    }
   ],
   "source": [
    "pip install --upgrade pip"
   ]
  },
  {
   "cell_type": "code",
   "execution_count": 19,
   "metadata": {},
   "outputs": [],
   "source": [
    "#Importing the required modules\n",
    "import subprocess\n",
    "import wolframalpha\n",
    "import pyttsx3\n",
    "import tkinter\n",
    "import json\n",
    "import random\n",
    "import operator\n",
    "import speech_recognition as sr\n",
    "import datetime\n",
    "import wikipedia\n",
    "import webbrowser\n",
    "import os\n",
    "import winshell\n",
    "import pyjokes\n",
    "import feedparser\n",
    "import smtplib\n",
    "import ctypes\n",
    "import time\n",
    "import requests\n",
    "import shutil\n",
    "from twilio.rest import Client\n",
    "from clint.textui import progress\n",
    "from ecapture import ecapture as ec\n",
    "from bs4 import BeautifulSoup\n",
    "import win32com.client as wincl\n",
    "from urllib.request import urlopen"
   ]
  },
  {
   "cell_type": "code",
   "execution_count": 20,
   "metadata": {},
   "outputs": [],
   "source": [
    "#Choosing the voice\n",
    "engine = pyttsx3.init('sapi5')\n",
    "voices = engine.getProperty('voices')\n",
    "engine.setProperty('voice', voices[1].id)"
   ]
  },
  {
   "cell_type": "code",
   "execution_count": 25,
   "metadata": {},
   "outputs": [],
   "source": [
    "#defining the functions\n",
    "def speak(audio):\n",
    "\tengine.say(audio)\n",
    "\tengine.runAndWait()\n",
    "\n",
    "def wishMe():\n",
    "\thour = int(datetime.datetime.now().hour)\n",
    "\tif hour>= 0 and hour<12:\n",
    "\t\tspeak(\"Good Morning Sir!\")\n",
    "\n",
    "\telif hour>= 12 and hour<18:\n",
    "\t\tspeak(\"Good Afternoon Sir!\")\n",
    "\n",
    "\telse:\n",
    "\t\tspeak(\"Good Evening Sir!\")\n",
    "\n",
    "\tassname =(\"Friday\")\n",
    "\tspeak(\"I'm your Assistant\")\n",
    "\tspeak(assname)\n",
    "\t\n",
    "\n",
    "def username():\n",
    "\tspeak(\"What should I call you sir\")\n",
    "\tuname = takeCommand()\n",
    "\tspeak(\"Welcome Mister\")\n",
    "\tspeak(uname)\n",
    "\tcolumns = shutil.get_terminal_size().columns\n",
    "\t\n",
    "\tprint(\"#####################\".center(columns))\n",
    "\tprint(\"Welcome Mr.\", uname.center(columns))\n",
    "\tprint(\"#####################\".center(columns))\n",
    "\t\n",
    "\tspeak(\"How can I Help you sir\",uname)\n",
    "\n",
    "def takeCommand():\n",
    "\t\n",
    "\tr = sr.Recognizer()\n",
    "\t\n",
    "\twith sr.Microphone() as source:\n",
    "\t\t\n",
    "\t\tprint(\"Listening...\")\n",
    "\t\tr.pause_threshold = 1\n",
    "\t\taudio = r.listen(source)\n",
    "\n",
    "\ttry:\n",
    "\t\tprint(\"Recognizing...\")\n",
    "\t\tquery = r.recognize_google(audio, language ='en-in')\n",
    "\t\tprint(f\"You said: {query}\\n\")\n",
    "\n",
    "\texcept Exception as e:\n",
    "\t\tprint(e)\n",
    "\t\tprint(\"Unable to Recognize your voice.\")\n",
    "\t\treturn \"None\"\n",
    "\t\n",
    "\treturn query\n",
    "\n",
    "# def sendEmail(to, content):\n",
    "# \tserver = smtplib.SMTP('smtp.gmail.com', 587)\n",
    "# \tserver.ehlo()\n",
    "# \tserver.starttls()\n",
    "\t\n",
    "# \t# Enable low security in gmail\n",
    "# \tserver.login('your email id', 'your email password')\n",
    "# \tserver.sendmail('your email id', to, content)\n",
    "# \tserver.close()"
   ]
  },
  {
   "cell_type": "code",
   "execution_count": null,
   "metadata": {},
   "outputs": [],
   "source": [
    "# while True:\n",
    "\t\t\n",
    "# \t\tquery = takeCommand().lower()\n",
    "\t\t\n",
    "# \t\t# All the commands said by user will be stored here in 'query' and will be converted to lower case for easy recognition of command\n",
    "# \t\tif 'wikipedia' in query:\n",
    "# \t\t\tspeak('Searching Wikipedia...')\n",
    "# \t\t\tquery = query.replace(\"wikipedia\", \"\")\n",
    "# \t\t\tresults = wikipedia.summary(query, sentences = 3)\n",
    "# \t\t\tspeak(\"According to Wikipedia\")\n",
    "# \t\t\tprint(results)\n",
    "# \t\t\tspeak(results)\n",
    "\n",
    "# \t\telif 'open youtube' in query:\n",
    "# \t\t\tspeak(\"Here you go to Youtube\\n\")\n",
    "# \t\t\twebbrowser.open(\"youtube.com\")\n",
    "\n",
    "# \t\telif 'open google' in query:\n",
    "# \t\t\tspeak(\"Here you go to Google\\n\")\n",
    "# \t\t\twebbrowser.open(\"google.co.in\")\n",
    "\n",
    "# \t\telif 'open stackoverflow' in query:\n",
    "# \t\t\tspeak(\"Here you go to Stack Over flow.Happy coding\")\n",
    "# \t\t\twebbrowser.open(\"stackoverflow.com\")\n",
    "\n",
    "# \t\t# elif 'play music' in query or \"play song\" in query:\n",
    "# \t\t# \tspeak(\"Here you go\")\n",
    "# \t\t# \tmusic_dir = \"C:/Users/DHIWAHAR_K/Music\"\n",
    "# \t\t# \tsongs = os.listdir(music_dir)\n",
    "# \t\t# \tprint(songs)\n",
    "# \t\t# \trandom = os.startfile(os.path.join(music_dir, songs[1]))\n",
    "\n",
    "# \t\telif 'tell time' in query:\n",
    "# \t\t\tTime = str(datetime.datetime.now())\n",
    "# \t\t\tspeak(Time)\n",
    "\n",
    "# \t\t# elif 'open brave' in query:\n",
    "# \t\t# \tcodePath = r\"C:/Program Files/BraveSoftware/Brave-Browser/Application/brave.exe\"\n",
    "# \t\t# \tos.startfile(codePath)\n",
    "\n",
    "# \t\t# elif 'email to dhiwahar' in query:\n",
    "# \t\t# \ttry:\n",
    "# \t\t# \t\tspeak(\"What should I say?\")\n",
    "# \t\t# \t\tcontent = takeCommand()\n",
    "# \t\t# \t\tto = \"Receiver email address\"\n",
    "# \t\t# \t\tsendEmail(to, content)\n",
    "# \t\t# \t\tspeak(\"Email has been sent !\")\n",
    "# \t\t# \texcept Exception as e:\n",
    "# \t\t# \t\tprint(e)\n",
    "# \t\t# \t\tspeak(\"I am not able to send this email\")\n",
    "\n",
    "# \t\t# elif 'send a mail' in query:\n",
    "# \t\t# \ttry:\n",
    "# \t\t# \t\tspeak(\"What should I say?\")\n",
    "# \t\t# \t\tcontent = takeCommand()\n",
    "# \t\t# \t\tspeak(\"whome should i send\")\n",
    "# \t\t# \t\tto = input()\n",
    "# \t\t# \t\tsendEmail(to, content)\n",
    "# \t\t# \t\tspeak(\"Email has been sent !\")\n",
    "# \t\t# \texcept Exception as e:\n",
    "# \t\t# \t\tprint(e)\n",
    "# \t\t# \t\tspeak(\"I am not able to send this email\")\n",
    "\n",
    "# \t\telif 'how are you' in query:\n",
    "# \t\t\tspeak(\"I am fine, Thank you\")\n",
    "# \t\t\tspeak(\"How are you, Sir\")\n",
    "\n",
    "# \t\telif 'fine' in query or \"good\" in query:\n",
    "# \t\t\tspeak(\"It's good to know that your fine\")\n",
    "\n",
    "# \t\telif \"change my name to\" in query:\n",
    "# \t\t\tquery = query.replace(\"change my name to\", \"\")\n",
    "# \t\t\tassname = query\n",
    "\n",
    "# \t\telif \"change name\" in query:\n",
    "# \t\t\tspeak(\"What would you like to call me, Sir \")\n",
    "# \t\t\tassname = takeCommand()\n",
    "# \t\t\tspeak(\"Thanks for naming me\")\n",
    "\n",
    "# \t\telif \"what is your name\" in query:\n",
    "# \t\t\tspeak(\"people call me Hope\")\n",
    "# \t\t\tprint(\"people call me Hope\")\n",
    "\n",
    "# \t\telif 'exit' in query:\n",
    "# \t\t\tspeak(\"Thanks for giving me your time\")\n",
    "# \t\t\texit()\n",
    "\n",
    "# \t\telif \"who made you\" in query or \"who created you\" in query:\n",
    "# \t\t\tspeak(\"I have been created by my master\")\n",
    "\t\t\t\n",
    "# \t\telif 'tell me a joke' in query:\n",
    "# \t\t\tspeak(pyjokes.get_joke())\n",
    "\t\t\t\n",
    "# \t\t# elif \"calculate\" in query:\n",
    "\t\t\t\n",
    "# \t\t# \tapp_id = \"Wolframalpha api id\"\n",
    "# \t\t# \tclient = wolframalpha.Client(app_id)\n",
    "# \t\t# \tindx = query.lower().split().index('calculate')\n",
    "# \t\t# \tquery = query.split()[indx + 1:]\n",
    "# \t\t# \tres = client.query(' '.join(query))\n",
    "# \t\t# \tanswer = next(res.results).text\n",
    "# \t\t# \tprint(\"The answer is \" + answer)\n",
    "# \t\t# \tspeak(\"The answer is \" + answer)\n",
    "\n",
    "# \t\telif 'search' in query:\n",
    "\t\t\t\n",
    "# \t\t\tquery = query.replace(\"search\", \"\")\t\t\n",
    "# \t\t\twebbrowser.open(query)\n",
    "\n",
    "# \t\telif \"Who am I\" in query:\n",
    "# \t\t\tspeak(\"If you talk then definitely your human.\")\n",
    "\n",
    "# \t\telif \"Why did you come to this world?\" in query:\n",
    "# \t\t\tspeak(\"Thanks to my master apart from that It's a secret\")\n",
    "\n",
    "# \t\telif 'open power point presentation' in query:\n",
    "# \t\t\tspeak(\"opening Power Point presentation\")\n",
    "# \t\t\tpower = r\"C:/ProgramData/Microsoft/Windows/Start Menu/Programs/PowerPoint.lnk\"\n",
    "# \t\t\tos.startfile(power)\n",
    "\n",
    "# \t\telif 'what is love' in query:\n",
    "# \t\t\tspeak(\"It is 7th sense that destroy all other senses\")\n",
    "\n",
    "# \t\telif \"who are you\" in query:\n",
    "# \t\t\tspeak(\"I am your virtual assistant\")\n",
    "\n",
    "# \t\t# elif 'change background' in query:\n",
    "# \t\t# \tctypes.windll.user32.SystemParametersInfoW(20,0,\"Location of wallpaper\",0)\n",
    "# \t\t# \tspeak(\"Background changed successfully\")\n",
    "\n",
    "# \t\telif 'news' in query:\n",
    "\t\t\t\n",
    "# \t\t\ttry:\n",
    "# \t\t\t\tjsonObj = urlopen('''https://newsapi.org / v1 / articles?source = the-times-of-india&sortBy = top&apiKey =\\\\times of India Api key\\\\''')\n",
    "# \t\t\t\tdata = json.load(jsonObj)\n",
    "# \t\t\t\ti = 1\n",
    "\t\t\t\t\n",
    "# \t\t\t\tspeak('here are some top news from the times of india')\n",
    "# \t\t\t\tprint('''=============== TIMES OF INDIA ============'''+ '\\n')\n",
    "\t\t\t\t\n",
    "# \t\t\t\tfor item in data['articles']:\n",
    "\t\t\t\t\t\n",
    "# \t\t\t\t\tprint(str(i) + '. ' + item['title'] + '\\n')\n",
    "# \t\t\t\t\tprint(item['description'] + '\\n')\n",
    "# \t\t\t\t\tspeak(str(i) + '. ' + item['title'] + '\\n')\n",
    "# \t\t\t\t\ti += 1\n",
    "# \t\t\texcept Exception as e:\n",
    "\t\t\t\t\n",
    "# \t\t\t\tprint(str(e))\n",
    "\n",
    "\t\t\n",
    "# \t\telif 'lock window' in query:\n",
    "# \t\t\t\tspeak(\"locking the device\")\n",
    "# \t\t\t\tctypes.windll.user32.LockWorkStation()\n",
    "\n",
    "# \t\telif 'shutdown system' in query:\n",
    "# \t\t\t\tspeak(\"Hold On a Sec ! Your system is on its way to shut down\")\n",
    "# \t\t\t\tos.system(\"shutdown /s /t 1\")\n",
    "\t\t\t\t\n",
    "# \t\telif 'empty recycle bin' in query:\n",
    "# \t\t\twinshell.recycle_bin().empty(confirm = False, show_progress = False, sound = True)\n",
    "# \t\t\tspeak(\"Recycle Bin Recycled\")\n",
    "\n",
    "# \t\telif \"don't listen\" in query or \"stop listening\" in query:\n",
    "# \t\t\tspeak(\"how long do you want me to stop listening\")\n",
    "# \t\t\ta = int(takeCommand())\n",
    "# \t\t\ttime.sleep(a)\n",
    "# \t\t\tprint(a)\n",
    "\n",
    "# \t\telif \"where is\" in query:\n",
    "# \t\t\tquery = query.replace(\"where is\", \"\")\n",
    "# \t\t\tlocation = query\n",
    "# \t\t\tspeak(\"User asked to Locate\")\n",
    "# \t\t\tspeak(location)\n",
    "# \t\t\twebbrowser.open(\"https://www.google.co.in / maps / place/\" + location + \"\")\n",
    "\n",
    "# \t\telif \"camera\" in query or \"take a photo\" in query:\n",
    "# \t\t\tec.capture(0, \"Hope Camera\", \"img.jpg\")\n",
    "\n",
    "# \t\telif \"restart\" in query:\n",
    "# \t\t\tos.system(\"shutdown /r /t 1\")\n",
    "\t\t\t\n",
    "# \t\telif \"hibernate\" in query or \"sleep\" in query:\n",
    "# \t\t\tspeak(\"Hibernating\")\n",
    "# \t\t\tsubprocess.call(\"shutdown /h /t 1\")\n",
    "\n",
    "# \t\telif \"log off\" in query or \"sign out\" in query:\n",
    "# \t\t\tspeak(\"Make sure all the application are closed before sign-out\")\n",
    "# \t\t\ttime.sleep(5)\n",
    "# \t\t\tsubprocess.call([\"shutdown\", \"/l\"])\n",
    "\n",
    "# \t\telif \"write a note\" in query:\n",
    "# \t\t\tspeak(\"What do you want me to write, sir\")\n",
    "# \t\t\tnote = takeCommand()\n",
    "# \t\t\tfile = open('note.txt', 'w')\n",
    "# \t\t\tspeak(\"Sir, Should i include date and time\")\n",
    "# \t\t\tsnfm = takeCommand()\n",
    "# \t\t\tif 'yes' in snfm or 'sure' in snfm:\n",
    "# \t\t\t\tstrTime = datetime.datetime.now().strftime(\"% H:% M:% S\")\n",
    "# \t\t\t\tfile.write(strTime)\n",
    "# \t\t\t\tfile.write(\" :- \")\n",
    "# \t\t\t\tfile.write(note)\n",
    "# \t\t\telse:\n",
    "# \t\t\t\tfile.write(note)\n",
    "\t\t\n",
    "# \t\telif \"show note\" in query:\n",
    "# \t\t\tspeak(\"Showing Notes\")\n",
    "# \t\t\tfile = open(\"note.txt\", \"r\")\n",
    "# \t\t\tprint(file.read())\n",
    "# \t\t\tspeak(file.read(6))\n",
    "\n",
    "# \t\t# elif \"update assistant\" in query:\n",
    "# \t\t# \tspeak(\"After downloading file please replace this file with the downloaded one\")\n",
    "# \t\t# \turl = '# url after uploading file'\n",
    "# \t\t# \tr = requests.get(url, stream = True)\n",
    "\t\t\t\n",
    "# \t\t\twith open(\"Voice.py\", \"wb\") as Pypdf:\n",
    "\t\t\t\t\n",
    "# \t\t\t\ttotal_length = int(r.headers.get('content-length'))\n",
    "\t\t\t\t\n",
    "# \t\t\t\tfor ch in progress.bar(r.iter_content(chunk_size = 2391975),\n",
    "# \t\t\t\t\t\t\t\t\texpected_size =(total_length / 1024) + 1):\n",
    "# \t\t\t\t\tif ch:\n",
    "# \t\t\t\t\t   Pypdf.write(ch)\n",
    "\t\t\t\t\t\n",
    "# \t\t# NPPR9-FWDCX-D2C8J-H872K-2YT43"
   ]
  },
  {
   "cell_type": "code",
   "execution_count": 26,
   "metadata": {},
   "outputs": [
    {
     "name": "stdout",
     "output_type": "stream",
     "text": [
      "Listening...\n",
      "Recognizing...\n",
      "\n",
      "Unable to Recognize your voice.\n",
      "                             #####################                              \n",
      "Welcome Mr.                                       None                                      \n",
      "                             #####################                              \n"
     ]
    },
    {
     "ename": "TypeError",
     "evalue": "speak() takes 1 positional argument but 2 were given",
     "output_type": "error",
     "traceback": [
      "\u001b[1;31m---------------------------------------------------------------------------\u001b[0m",
      "\u001b[1;31mTypeError\u001b[0m                                 Traceback (most recent call last)",
      "Cell \u001b[1;32mIn[26], line 6\u001b[0m\n\u001b[0;32m      4\u001b[0m \tclear()\n\u001b[0;32m      5\u001b[0m \twishMe()\n\u001b[1;32m----> 6\u001b[0m \tusername()\n\u001b[0;32m      9\u001b[0m \u001b[39m# elif \"Friday\" in query:\u001b[39;00m\n\u001b[0;32m     10\u001b[0m \t\t\t\n\u001b[0;32m     11\u001b[0m \u001b[39m# \t\t\twishMe()\u001b[39;00m\n\u001b[1;32m   (...)\u001b[0m\n\u001b[0;32m     87\u001b[0m \u001b[39m# \t\t\t# Command go here\u001b[39;00m\n\u001b[0;32m     88\u001b[0m \u001b[39m# \t\t\t# For adding more commands\u001b[39;00m\n",
      "Cell \u001b[1;32mIn[25], line 33\u001b[0m, in \u001b[0;36musername\u001b[1;34m()\u001b[0m\n\u001b[0;32m     30\u001b[0m \u001b[39mprint\u001b[39m(\u001b[39m\"\u001b[39m\u001b[39mWelcome Mr.\u001b[39m\u001b[39m\"\u001b[39m, uname\u001b[39m.\u001b[39mcenter(columns))\n\u001b[0;32m     31\u001b[0m \u001b[39mprint\u001b[39m(\u001b[39m\"\u001b[39m\u001b[39m#####################\u001b[39m\u001b[39m\"\u001b[39m\u001b[39m.\u001b[39mcenter(columns))\n\u001b[1;32m---> 33\u001b[0m speak(\u001b[39m\"\u001b[39;49m\u001b[39mHow can I Help you sir\u001b[39;49m\u001b[39m\"\u001b[39;49m,uname)\n",
      "\u001b[1;31mTypeError\u001b[0m: speak() takes 1 positional argument but 2 were given"
     ]
    }
   ],
   "source": [
    "#Calling the functions that were already created\n",
    "if __name__ == '__main__':\n",
    "\tclear = lambda: os.system('cls')\n",
    "\tclear()\n",
    "\twishMe()\n",
    "\tusername()\n",
    "\t\n",
    "\t\n",
    "# elif \"Friday\" in query:\n",
    "\t\t\t\n",
    "# \t\t\twishMe()\n",
    "# \t\t\tspeak(\"Friday at your service\")\n",
    "# \t\t\tspeak(assname)\n",
    "\n",
    "# elif \"what is the weather\" in query:\n",
    "\t\t\t\n",
    "# \t\t\t# Google Open weather website\n",
    "# \t\t\t# to get API of Open weather\n",
    "# \t\t\tapi_key = \"Api key\"\n",
    "# \t\t\tbase_url = \"http://api.openweathermap.org / data / 2.5 / weather?\"\n",
    "# \t\t\tspeak(\" City name \")\n",
    "# \t\t\tprint(\"City name : \")\n",
    "# \t\t\tcity_name = takeCommand()\n",
    "# \t\t\tcomplete_url = base_url + \"appid =\" + api_key + \"&q =\" + city_name\n",
    "# \t\t\tresponse = requests.get(complete_url)\n",
    "# \t\t\tx = response.json()\n",
    "\t\t\t\n",
    "# \t\t\tif x[\"code\"] != \"404\":\n",
    "# \t\t\t\ty = x[\"main\"]\n",
    "# \t\t\t\tcurrent_temperature = y[\"temp\"]\n",
    "# \t\t\t\tcurrent_pressure = y[\"pressure\"]\n",
    "# \t\t\t\tcurrent_humidiy = y[\"humidity\"]\n",
    "# \t\t\t\tz = x[\"weather\"]\n",
    "# \t\t\t\tweather_description = z[0][\"description\"]\n",
    "# \t\t\t\tprint(\" Temperature (in kelvin unit) = \" +str(current_temperature)+\"\\n atmospheric pressure (in hPa unit) =\"+str(current_pressure) +\"\\n humidity (in percentage) = \" +str(current_humidiy) +\"\\n description = \" +str(weather_description))\n",
    "\t\t\t\n",
    "# \t\t\telse:\n",
    "# \t\t\t\tspeak(\"currently unavailable\")\n",
    "\t\t\t\n",
    "# \t\t# elif \"send message \" in query:\n",
    "# \t\t# \t\t# You need to create an account on Twilio to use this service\n",
    "# \t\t# \t\taccount_sid = 'Account Sid key'\n",
    "# \t\t# \t\tauth_token = 'Auth token'\n",
    "# \t\t# \t\tclient = Client(account_sid, auth_token)\n",
    "\n",
    "# \t\t# \t\tmessage = client.messages \\\n",
    "# \t\t# \t\t\t\t\t\t.create(\n",
    "# \t\t# \t\t\t\t\t\t\tbody = takeCommand(),\n",
    "# \t\t# \t\t\t\t\t\t\tfrom_='Sender No',\n",
    "# \t\t# \t\t\t\t\t\t\tto ='Receiver No'\n",
    "# \t\t# \t\t\t\t\t\t)\n",
    "\n",
    "# \t\t# \t\tprint(message.sid)\n",
    "\n",
    "# elif \"wikipedia\" in query:\n",
    "# \t\t\twebbrowser.open(\"wikipedia.com\")\n",
    "\n",
    "# elif \"Good Morning\" in query:\n",
    "# \t\t\tspeak(\"A very\" +query)\n",
    "# \t\t\tspeak(\"How are you sir\")\n",
    "# \t\t\tspeak(assname)\n",
    "\n",
    "# \t\t# most asked question from google Assistant\n",
    "# elif \"will you be my gf\" in query or \"will you be my bf\" in query:\n",
    "# \t\t\tspeak(\"I'm not sure about that, may be you should give me some time\")\n",
    "\n",
    "# elif \"how are you\" in query:\n",
    "# \t\t\tspeak(\"I'm fine, glad you me that\")\n",
    "\n",
    "# elif \"I love you\" in query:\n",
    "# \t\t\tspeak(\"It's hard to understand\")\n",
    "\n",
    "# \t\t# elif \"what is\" in query or \"who is\" in query:\n",
    "\t\t\t\n",
    "# \t\t# \t# Use the same API key\n",
    "# \t\t# \t# that we have generated earlier\n",
    "# \t\t# \tclient = wolframalpha.Client(\"API_ID\")\n",
    "# \t\t# \tres = client.query(query)\n",
    "\t\t\t\n",
    "# \t\t# \ttry:\n",
    "# \t\t# \t\tprint (next(res.results).text)\n",
    "# \t\t# \t\tspeak (next(res.results).text)\n",
    "# \t\t# \texcept StopIteration:\n",
    "# \t\t# \t\tprint (\"No results\")\n",
    "\n",
    "# \t\t# elif \"\" in query:\n",
    "# \t\t\t# Command go here\n",
    "# \t\t\t# For adding more commands\n"
   ]
  }
 ],
 "metadata": {
  "kernelspec": {
   "display_name": "base",
   "language": "python",
   "name": "python3"
  },
  "language_info": {
   "codemirror_mode": {
    "name": "ipython",
    "version": 3
   },
   "file_extension": ".py",
   "mimetype": "text/x-python",
   "name": "python",
   "nbconvert_exporter": "python",
   "pygments_lexer": "ipython3",
   "version": "3.11.3"
  },
  "orig_nbformat": 4,
  "vscode": {
   "interpreter": {
    "hash": "10c542869f0b0834b63b719c5ea9ac88057395eca5e0193421a6477b09d99687"
   }
  }
 },
 "nbformat": 4,
 "nbformat_minor": 2
}
