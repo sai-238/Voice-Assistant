{
 "cells": [
  {
   "cell_type": "code",
   "execution_count": 6,
   "metadata": {},
   "outputs": [
    {
     "name": "stdout",
     "output_type": "stream",
     "text": [
      "Requirement already satisfied: wolframalpha in c:\\users\\saipr\\appdata\\local\\packages\\pythonsoftwarefoundation.python.3.11_qbz5n2kfra8p0\\localcache\\local-packages\\python311\\site-packages (5.0.0)\n",
      "Requirement already satisfied: xmltodict in c:\\users\\saipr\\appdata\\local\\packages\\pythonsoftwarefoundation.python.3.11_qbz5n2kfra8p0\\localcache\\local-packages\\python311\\site-packages (from wolframalpha) (0.13.0)\n",
      "Requirement already satisfied: more-itertools in c:\\users\\saipr\\appdata\\local\\packages\\pythonsoftwarefoundation.python.3.11_qbz5n2kfra8p0\\localcache\\local-packages\\python311\\site-packages (from wolframalpha) (9.1.0)\n",
      "Requirement already satisfied: jaraco.context in c:\\users\\saipr\\appdata\\local\\packages\\pythonsoftwarefoundation.python.3.11_qbz5n2kfra8p0\\localcache\\local-packages\\python311\\site-packages (from wolframalpha) (4.3.0)\n",
      "Note: you may need to restart the kernel to use updated packages.\n"
     ]
    }
   ],
   "source": [
    "pip install wolframalpha"
   ]
  },
  {
   "cell_type": "code",
   "execution_count": 7,
   "metadata": {},
   "outputs": [
    {
     "name": "stdout",
     "output_type": "stream",
     "text": [
      "Requirement already satisfied: winshell in c:\\users\\saipr\\appdata\\local\\packages\\pythonsoftwarefoundation.python.3.11_qbz5n2kfra8p0\\localcache\\local-packages\\python311\\site-packages (0.6)\n",
      "Note: you may need to restart the kernel to use updated packages.\n"
     ]
    }
   ],
   "source": [
    "pip install winshell"
   ]
  },
  {
   "cell_type": "code",
   "execution_count": 8,
   "metadata": {},
   "outputs": [
    {
     "name": "stdout",
     "output_type": "stream",
     "text": [
      "Requirement already satisfied: pyjokes in c:\\users\\saipr\\appdata\\local\\packages\\pythonsoftwarefoundation.python.3.11_qbz5n2kfra8p0\\localcache\\local-packages\\python311\\site-packages (0.6.0)\n",
      "Note: you may need to restart the kernel to use updated packages.\n"
     ]
    }
   ],
   "source": [
    "pip install pyjokes"
   ]
  },
  {
   "cell_type": "code",
   "execution_count": 9,
   "metadata": {},
   "outputs": [
    {
     "name": "stdout",
     "output_type": "stream",
     "text": [
      "Requirement already satisfied: feedparser in c:\\users\\saipr\\appdata\\local\\packages\\pythonsoftwarefoundation.python.3.11_qbz5n2kfra8p0\\localcache\\local-packages\\python311\\site-packages (6.0.10)\n",
      "Requirement already satisfied: sgmllib3k in c:\\users\\saipr\\appdata\\local\\packages\\pythonsoftwarefoundation.python.3.11_qbz5n2kfra8p0\\localcache\\local-packages\\python311\\site-packages (from feedparser) (1.0.0)\n",
      "Note: you may need to restart the kernel to use updated packages.\n"
     ]
    }
   ],
   "source": [
    "pip install feedparser"
   ]
  },
  {
   "cell_type": "code",
   "execution_count": 10,
   "metadata": {},
   "outputs": [
    {
     "name": "stdout",
     "output_type": "stream",
     "text": [
      "Collecting twilio\n",
      "  Using cached twilio-7.17.0-py2.py3-none-any.whl (1.4 MB)\n",
      "Requirement already satisfied: pytz in c:\\users\\saipr\\appdata\\local\\packages\\pythonsoftwarefoundation.python.3.11_qbz5n2kfra8p0\\localcache\\local-packages\\python311\\site-packages (from twilio) (2023.2)\n",
      "Requirement already satisfied: requests>=2.0.0 in c:\\users\\saipr\\appdata\\local\\packages\\pythonsoftwarefoundation.python.3.11_qbz5n2kfra8p0\\localcache\\local-packages\\python311\\site-packages (from twilio) (2.28.2)\n",
      "Requirement already satisfied: PyJWT<3.0.0,>=2.0.0 in c:\\users\\saipr\\appdata\\local\\packages\\pythonsoftwarefoundation.python.3.11_qbz5n2kfra8p0\\localcache\\local-packages\\python311\\site-packages (from twilio) (2.6.0)\n",
      "Requirement already satisfied: charset-normalizer<4,>=2 in c:\\users\\saipr\\appdata\\local\\packages\\pythonsoftwarefoundation.python.3.11_qbz5n2kfra8p0\\localcache\\local-packages\\python311\\site-packages (from requests>=2.0.0->twilio) (3.0.1)\n",
      "Requirement already satisfied: idna<4,>=2.5 in c:\\users\\saipr\\appdata\\local\\packages\\pythonsoftwarefoundation.python.3.11_qbz5n2kfra8p0\\localcache\\local-packages\\python311\\site-packages (from requests>=2.0.0->twilio) (3.4)\n",
      "Requirement already satisfied: urllib3<1.27,>=1.21.1 in c:\\users\\saipr\\appdata\\local\\packages\\pythonsoftwarefoundation.python.3.11_qbz5n2kfra8p0\\localcache\\local-packages\\python311\\site-packages (from requests>=2.0.0->twilio) (1.26.14)\n",
      "Requirement already satisfied: certifi>=2017.4.17 in c:\\users\\saipr\\appdata\\local\\packages\\pythonsoftwarefoundation.python.3.11_qbz5n2kfra8p0\\localcache\\local-packages\\python311\\site-packages (from requests>=2.0.0->twilio) (2022.12.7)\n",
      "Installing collected packages: twilio\n",
      "Note: you may need to restart the kernel to use updated packages.\n"
     ]
    },
    {
     "name": "stderr",
     "output_type": "stream",
     "text": [
      "ERROR: Could not install packages due to an OSError: [Errno 2] No such file or directory: 'C:\\\\Users\\\\saipr\\\\AppData\\\\Local\\\\Packages\\\\PythonSoftwareFoundation.Python.3.11_qbz5n2kfra8p0\\\\LocalCache\\\\local-packages\\\\Python311\\\\site-packages\\\\twilio\\\\rest\\\\api\\\\v2010\\\\account\\\\sip\\\\domain\\\\auth_types\\\\auth_registrations_mapping\\\\auth_registrations_credential_list_mapping.py'\n",
      "HINT: This error might have occurred since this system does not have Windows Long Path support enabled. You can find information on how to enable this at https://pip.pypa.io/warnings/enable-long-paths\n",
      "\n"
     ]
    }
   ],
   "source": [
    "pip install twilio"
   ]
  },
  {
   "cell_type": "code",
   "execution_count": 11,
   "metadata": {},
   "outputs": [
    {
     "name": "stdout",
     "output_type": "stream",
     "text": [
      "Requirement already satisfied: clint in c:\\users\\saipr\\appdata\\local\\packages\\pythonsoftwarefoundation.python.3.11_qbz5n2kfra8p0\\localcache\\local-packages\\python311\\site-packages (0.5.1)\n",
      "Requirement already satisfied: args in c:\\users\\saipr\\appdata\\local\\packages\\pythonsoftwarefoundation.python.3.11_qbz5n2kfra8p0\\localcache\\local-packages\\python311\\site-packages (from clint) (0.1.0)\n",
      "Note: you may need to restart the kernel to use updated packages.\n"
     ]
    }
   ],
   "source": [
    "pip install clint"
   ]
  },
  {
   "cell_type": "code",
   "execution_count": 12,
   "metadata": {},
   "outputs": [
    {
     "name": "stdout",
     "output_type": "stream",
     "text": [
      "Requirement already satisfied: ecapture in c:\\users\\saipr\\appdata\\local\\packages\\pythonsoftwarefoundation.python.3.11_qbz5n2kfra8p0\\localcache\\local-packages\\python311\\site-packages (2.0.2)\n",
      "Requirement already satisfied: opencv-python in c:\\users\\saipr\\appdata\\local\\packages\\pythonsoftwarefoundation.python.3.11_qbz5n2kfra8p0\\localcache\\local-packages\\python311\\site-packages (from ecapture) (4.7.0.72)\n",
      "Requirement already satisfied: numpy>=1.21.2 in c:\\users\\saipr\\appdata\\local\\packages\\pythonsoftwarefoundation.python.3.11_qbz5n2kfra8p0\\localcache\\local-packages\\python311\\site-packages (from opencv-python->ecapture) (1.23.5)\n",
      "Note: you may need to restart the kernel to use updated packages.\n"
     ]
    }
   ],
   "source": [
    "pip install ecapture"
   ]
  },
  {
   "cell_type": "code",
   "execution_count": 13,
   "metadata": {},
   "outputs": [
    {
     "name": "stdout",
     "output_type": "stream",
     "text": [
      "Requirement already satisfied: pip in c:\\users\\saipr\\appdata\\local\\packages\\pythonsoftwarefoundation.python.3.11_qbz5n2kfra8p0\\localcache\\local-packages\\python311\\site-packages (23.0.1)\n",
      "Note: you may need to restart the kernel to use updated packages.\n"
     ]
    }
   ],
   "source": [
    "pip install --upgrade pip"
   ]
  },
  {
   "cell_type": "code",
   "execution_count": 14,
   "metadata": {},
   "outputs": [
    {
     "name": "stdout",
     "output_type": "stream",
     "text": [
      "Requirement already satisfied: pyttsx3 in c:\\users\\saipr\\appdata\\local\\packages\\pythonsoftwarefoundation.python.3.11_qbz5n2kfra8p0\\localcache\\local-packages\\python311\\site-packages (2.90)\n",
      "Requirement already satisfied: comtypes in c:\\users\\saipr\\appdata\\local\\packages\\pythonsoftwarefoundation.python.3.11_qbz5n2kfra8p0\\localcache\\local-packages\\python311\\site-packages (from pyttsx3) (1.1.14)\n",
      "Requirement already satisfied: pypiwin32 in c:\\users\\saipr\\appdata\\local\\packages\\pythonsoftwarefoundation.python.3.11_qbz5n2kfra8p0\\localcache\\local-packages\\python311\\site-packages (from pyttsx3) (223)\n",
      "Requirement already satisfied: pywin32 in c:\\users\\saipr\\appdata\\local\\packages\\pythonsoftwarefoundation.python.3.11_qbz5n2kfra8p0\\localcache\\local-packages\\python311\\site-packages (from pyttsx3) (305)\n",
      "Note: you may need to restart the kernel to use updated packages.\n"
     ]
    }
   ],
   "source": [
    "pip install pyttsx3"
   ]
  },
  {
   "cell_type": "code",
   "execution_count": 15,
   "metadata": {},
   "outputs": [
    {
     "name": "stdout",
     "output_type": "stream",
     "text": [
      "Requirement already satisfied: winspeech in c:\\users\\saipr\\appdata\\local\\packages\\pythonsoftwarefoundation.python.3.11_qbz5n2kfra8p0\\localcache\\local-packages\\python311\\site-packages (1.0.1)\n",
      "Requirement already satisfied: pywin32 in c:\\users\\saipr\\appdata\\local\\packages\\pythonsoftwarefoundation.python.3.11_qbz5n2kfra8p0\\localcache\\local-packages\\python311\\site-packages (from winspeech) (305)\n",
      "Note: you may need to restart the kernel to use updated packages.\n"
     ]
    }
   ],
   "source": [
    "pip install winspeech\n"
   ]
  },
  {
   "cell_type": "code",
   "execution_count": 16,
   "metadata": {},
   "outputs": [
    {
     "name": "stdout",
     "output_type": "stream",
     "text": [
      "Requirement already satisfied: SpeechRecognition in c:\\users\\saipr\\appdata\\local\\packages\\pythonsoftwarefoundation.python.3.11_qbz5n2kfra8p0\\localcache\\local-packages\\python311\\site-packages (3.10.0)\n",
      "Requirement already satisfied: requests>=2.26.0 in c:\\users\\saipr\\appdata\\local\\packages\\pythonsoftwarefoundation.python.3.11_qbz5n2kfra8p0\\localcache\\local-packages\\python311\\site-packages (from SpeechRecognition) (2.28.2)\n",
      "Requirement already satisfied: charset-normalizer<4,>=2 in c:\\users\\saipr\\appdata\\local\\packages\\pythonsoftwarefoundation.python.3.11_qbz5n2kfra8p0\\localcache\\local-packages\\python311\\site-packages (from requests>=2.26.0->SpeechRecognition) (3.0.1)\n",
      "Requirement already satisfied: idna<4,>=2.5 in c:\\users\\saipr\\appdata\\local\\packages\\pythonsoftwarefoundation.python.3.11_qbz5n2kfra8p0\\localcache\\local-packages\\python311\\site-packages (from requests>=2.26.0->SpeechRecognition) (3.4)\n",
      "Requirement already satisfied: urllib3<1.27,>=1.21.1 in c:\\users\\saipr\\appdata\\local\\packages\\pythonsoftwarefoundation.python.3.11_qbz5n2kfra8p0\\localcache\\local-packages\\python311\\site-packages (from requests>=2.26.0->SpeechRecognition) (1.26.14)\n",
      "Requirement already satisfied: certifi>=2017.4.17 in c:\\users\\saipr\\appdata\\local\\packages\\pythonsoftwarefoundation.python.3.11_qbz5n2kfra8p0\\localcache\\local-packages\\python311\\site-packages (from requests>=2.26.0->SpeechRecognition) (2022.12.7)\n",
      "Note: you may need to restart the kernel to use updated packages.\n"
     ]
    }
   ],
   "source": [
    "pip install SpeechRecognition"
   ]
  },
  {
   "cell_type": "code",
   "execution_count": 17,
   "metadata": {},
   "outputs": [
    {
     "name": "stdout",
     "output_type": "stream",
     "text": [
      "Collecting rasa\n",
      "  Using cached rasa-1.10.2-py3-none-any.whl (510 kB)\n",
      "Collecting PyJWT<1.8,>=1.7\n",
      "  Using cached PyJWT-1.7.1-py2.py3-none-any.whl (18 kB)\n",
      "Collecting SQLAlchemy<1.4.0,>=1.3.3\n",
      "  Using cached SQLAlchemy-1.3.24.tar.gz (6.4 MB)\n",
      "  Preparing metadata (setup.py): started\n",
      "  Preparing metadata (setup.py): finished with status 'done'\n",
      "Collecting absl-py<0.10,>=0.9\n",
      "  Using cached absl-py-0.9.0.tar.gz (104 kB)\n",
      "  Preparing metadata (setup.py): started\n",
      "  Preparing metadata (setup.py): finished with status 'error'\n",
      "Note: you may need to restart the kernel to use updated packages.\n"
     ]
    },
    {
     "name": "stderr",
     "output_type": "stream",
     "text": [
      "  error: subprocess-exited-with-error\n",
      "  \n",
      "  × python setup.py egg_info did not run successfully.\n",
      "  │ exit code: 1\n",
      "  ╰─> [6 lines of output]\n",
      "      Traceback (most recent call last):\n",
      "        File \"<string>\", line 2, in <module>\n",
      "        File \"<pip-setuptools-caller>\", line 34, in <module>\n",
      "        File \"C:\\Users\\saipr\\AppData\\Local\\Temp\\pip-install-ctu8dx2w\\absl-py_f5a3a2b6323c40e9a47cad884bc33025\\setup.py\", line 34, in <module>\n",
      "          raise RuntimeError('Python version 2.7 or 3.4+ is required.')\n",
      "      RuntimeError: Python version 2.7 or 3.4+ is required.\n",
      "      [end of output]\n",
      "  \n",
      "  note: This error originates from a subprocess, and is likely not a problem with pip.\n",
      "error: metadata-generation-failed\n",
      "\n",
      "× Encountered error while generating package metadata.\n",
      "╰─> See above for output.\n",
      "\n",
      "note: This is an issue with the package mentioned above, not pip.\n",
      "hint: See above for details.\n"
     ]
    }
   ],
   "source": [
    "pip install rasa"
   ]
  },
  {
   "cell_type": "code",
   "execution_count": 18,
   "metadata": {},
   "outputs": [
    {
     "name": "stdout",
     "output_type": "stream",
     "text": [
      "Requirement already satisfied: wikipedia in c:\\users\\saipr\\appdata\\local\\packages\\pythonsoftwarefoundation.python.3.11_qbz5n2kfra8p0\\localcache\\local-packages\\python311\\site-packages (1.4.0)\n",
      "Requirement already satisfied: beautifulsoup4 in c:\\users\\saipr\\appdata\\local\\packages\\pythonsoftwarefoundation.python.3.11_qbz5n2kfra8p0\\localcache\\local-packages\\python311\\site-packages (from wikipedia) (4.12.0)\n",
      "Requirement already satisfied: requests<3.0.0,>=2.0.0 in c:\\users\\saipr\\appdata\\local\\packages\\pythonsoftwarefoundation.python.3.11_qbz5n2kfra8p0\\localcache\\local-packages\\python311\\site-packages (from wikipedia) (2.28.2)\n",
      "Requirement already satisfied: charset-normalizer<4,>=2 in c:\\users\\saipr\\appdata\\local\\packages\\pythonsoftwarefoundation.python.3.11_qbz5n2kfra8p0\\localcache\\local-packages\\python311\\site-packages (from requests<3.0.0,>=2.0.0->wikipedia) (3.0.1)\n",
      "Requirement already satisfied: idna<4,>=2.5 in c:\\users\\saipr\\appdata\\local\\packages\\pythonsoftwarefoundation.python.3.11_qbz5n2kfra8p0\\localcache\\local-packages\\python311\\site-packages (from requests<3.0.0,>=2.0.0->wikipedia) (3.4)\n",
      "Requirement already satisfied: urllib3<1.27,>=1.21.1 in c:\\users\\saipr\\appdata\\local\\packages\\pythonsoftwarefoundation.python.3.11_qbz5n2kfra8p0\\localcache\\local-packages\\python311\\site-packages (from requests<3.0.0,>=2.0.0->wikipedia) (1.26.14)\n",
      "Requirement already satisfied: certifi>=2017.4.17 in c:\\users\\saipr\\appdata\\local\\packages\\pythonsoftwarefoundation.python.3.11_qbz5n2kfra8p0\\localcache\\local-packages\\python311\\site-packages (from requests<3.0.0,>=2.0.0->wikipedia) (2022.12.7)\n",
      "Requirement already satisfied: soupsieve>1.2 in c:\\users\\saipr\\appdata\\local\\packages\\pythonsoftwarefoundation.python.3.11_qbz5n2kfra8p0\\localcache\\local-packages\\python311\\site-packages (from beautifulsoup4->wikipedia) (2.4)\n",
      "Note: you may need to restart the kernel to use updated packages.\n"
     ]
    }
   ],
   "source": [
    "pip install wikipedia"
   ]
  },
  {
   "cell_type": "code",
   "execution_count": 4,
   "metadata": {},
   "outputs": [],
   "source": [
    "#Importing the required modules\n",
    "import subprocess\n",
    "import wolframalpha\n",
    "import pyttsx3\n",
    "import tkinter\n",
    "import json\n",
    "import random\n",
    "import operator\n",
    "import speech_recognition as sr\n",
    "import datetime\n",
    "import wikipedia\n",
    "import webbrowser\n",
    "import os\n",
    "import winshell\n",
    "import pyjokes\n",
    "import feedparser\n",
    "import smtplib\n",
    "import ctypes\n",
    "import time\n",
    "import requests\n",
    "import shutil\n",
    "from twilio.rest import Client\n",
    "from clint.textui import progress\n",
    "from ecapture import ecapture as ec\n",
    "from bs4 import BeautifulSoup\n",
    "import win32com.client as wincl\n",
    "from urllib.request import urlopen"
   ]
  },
  {
   "cell_type": "code",
   "execution_count": 5,
   "metadata": {},
   "outputs": [],
   "source": [
    "#Choosing the voice\n",
    "engine = pyttsx3.init('sapi5')\n",
    "voices = engine.getProperty('voices')\n",
    "engine.setProperty('voice', voices[1].id)"
   ]
  },
  {
   "cell_type": "code",
   "execution_count": 6,
   "metadata": {},
   "outputs": [],
   "source": [
    "#defining the functions\n",
    "def speak(audio):\n",
    "\tengine.say(audio)\n",
    "\tengine.runAndWait()\n",
    "\n",
    "def wishMe():\n",
    "\thour = int(datetime.datetime.now().hour)\n",
    "\tif hour>= 0 and hour<12:\n",
    "\t\tspeak(\"Good Morning Sir!\")\n",
    "\n",
    "\telif hour>= 12 and hour<18:\n",
    "\t\tspeak(\"Good Afternoon Sir!\")\n",
    "\n",
    "\telse:\n",
    "\t\tspeak(\"Good Evening Sir!\")\n",
    "\n",
    "\tassname =(\"Friday\")\n",
    "\tspeak(\"I'm your Assistant\")\n",
    "\tspeak(assname)\n",
    "\t\n",
    "\n",
    "def username():\n",
    "\tspeak(\"What should I call you sir\")\n",
    "\tuname = takeCommand()\n",
    "\tspeak(\"Welcome Mister\")\n",
    "\tspeak(uname)\n",
    "\tcolumns = shutil.get_terminal_size().columns\n",
    "\t\n",
    "\tprint(\"#####################\".center(columns))\n",
    "\tprint(\"Welcome Mr.\", uname.center(columns))\n",
    "\tprint(\"#####################\".center(columns))\n",
    "\t\n",
    "\tspeak(\"How can I Help you, Sir\")\n",
    "\n",
    "def takeCommand():\n",
    "\t\n",
    "\tr = sr.Recognizer()\n",
    "\t\n",
    "\twith sr.Microphone() as source:\n",
    "\t\t\n",
    "\t\tprint(\"Listening...\")\n",
    "\t\tr.pause_threshold = 1\n",
    "\t\taudio = r.listen(source)\n",
    "\n",
    "\ttry:\n",
    "\t\tprint(\"Recognizing...\")\n",
    "\t\tquery = r.recognize_google(audio, language ='en-in')\n",
    "\t\tprint(f\"You said: {query}\\n\")\n",
    "\n",
    "\texcept Exception as e:\n",
    "\t\tprint(e)\n",
    "\t\tprint(\"Unable to Recognize your voice.\")\n",
    "\t\treturn \"None\"\n",
    "\t\n",
    "\treturn query\n",
    "\n",
    "# def sendEmail(to, content):\n",
    "# \tserver = smtplib.SMTP('smtp.gmail.com', 587)\n",
    "# \tserver.ehlo()\n",
    "# \tserver.starttls()\n",
    "\t\n",
    "# \t# Enable low security in gmail\n",
    "# \tserver.login('your email id', 'your email password')\n",
    "# \tserver.sendmail('your email id', to, content)\n",
    "# \tserver.close()"
   ]
  },
  {
   "cell_type": "code",
   "execution_count": 7,
   "metadata": {},
   "outputs": [
    {
     "name": "stdout",
     "output_type": "stream",
     "text": [
      "Listening...\n",
      "Recognizing...\n",
      "You said: sorry\n",
      "\n",
      "                             #####################                              \n",
      "Welcome Mr.                                      sorry                                      \n",
      "                             #####################                              \n",
      "Listening...\n",
      "Recognizing...\n",
      "\n",
      "Unable to Recognize your voice.\n",
      "Listening...\n",
      "Recognizing...\n",
      "\n",
      "Unable to Recognize your voice.\n",
      "Listening...\n",
      "Recognizing...\n",
      "\n",
      "Unable to Recognize your voice.\n",
      "Listening...\n",
      "Recognizing...\n",
      "You said: Wikipedia\n",
      "\n"
     ]
    },
    {
     "ename": "WikipediaException",
     "evalue": "An unknown error occured: \"The \"srsearch\" parameter must be set.\". Please report it on GitHub!",
     "output_type": "error",
     "traceback": [
      "\u001b[1;31m---------------------------------------------------------------------------\u001b[0m",
      "\u001b[1;31mWikipediaException\u001b[0m                        Traceback (most recent call last)",
      "Cell \u001b[1;32mIn[7], line 16\u001b[0m\n\u001b[0;32m     14\u001b[0m speak(\u001b[39m'\u001b[39m\u001b[39mSearching Wikipedia...\u001b[39m\u001b[39m'\u001b[39m)\n\u001b[0;32m     15\u001b[0m query \u001b[39m=\u001b[39m query\u001b[39m.\u001b[39mreplace(\u001b[39m\"\u001b[39m\u001b[39mwikipedia\u001b[39m\u001b[39m\"\u001b[39m, \u001b[39m\"\u001b[39m\u001b[39m\"\u001b[39m)\n\u001b[1;32m---> 16\u001b[0m results \u001b[39m=\u001b[39m wikipedia\u001b[39m.\u001b[39;49msummary(query, sentences \u001b[39m=\u001b[39;49m \u001b[39m3\u001b[39;49m)\n\u001b[0;32m     17\u001b[0m speak(\u001b[39m\"\u001b[39m\u001b[39mAccording to Wikipedia\u001b[39m\u001b[39m\"\u001b[39m)\n\u001b[0;32m     18\u001b[0m \u001b[39mprint\u001b[39m(results)\n",
      "File \u001b[1;32m~\\AppData\\Local\\Packages\\PythonSoftwareFoundation.Python.3.11_qbz5n2kfra8p0\\LocalCache\\local-packages\\Python311\\site-packages\\wikipedia\\util.py:28\u001b[0m, in \u001b[0;36mcache.__call__\u001b[1;34m(self, *args, **kwargs)\u001b[0m\n\u001b[0;32m     26\u001b[0m   ret \u001b[39m=\u001b[39m \u001b[39mself\u001b[39m\u001b[39m.\u001b[39m_cache[key]\n\u001b[0;32m     27\u001b[0m \u001b[39melse\u001b[39;00m:\n\u001b[1;32m---> 28\u001b[0m   ret \u001b[39m=\u001b[39m \u001b[39mself\u001b[39m\u001b[39m.\u001b[39m_cache[key] \u001b[39m=\u001b[39m \u001b[39mself\u001b[39;49m\u001b[39m.\u001b[39;49mfn(\u001b[39m*\u001b[39;49margs, \u001b[39m*\u001b[39;49m\u001b[39m*\u001b[39;49mkwargs)\n\u001b[0;32m     30\u001b[0m \u001b[39mreturn\u001b[39;00m ret\n",
      "File \u001b[1;32m~\\AppData\\Local\\Packages\\PythonSoftwareFoundation.Python.3.11_qbz5n2kfra8p0\\LocalCache\\local-packages\\Python311\\site-packages\\wikipedia\\wikipedia.py:231\u001b[0m, in \u001b[0;36msummary\u001b[1;34m(title, sentences, chars, auto_suggest, redirect)\u001b[0m\n\u001b[0;32m    216\u001b[0m \u001b[39m\u001b[39m\u001b[39m'''\u001b[39;00m\n\u001b[0;32m    217\u001b[0m \u001b[39mPlain text summary of the page.\u001b[39;00m\n\u001b[0;32m    218\u001b[0m \n\u001b[1;32m   (...)\u001b[0m\n\u001b[0;32m    226\u001b[0m \u001b[39m* redirect - allow redirection without raising RedirectError\u001b[39;00m\n\u001b[0;32m    227\u001b[0m \u001b[39m'''\u001b[39;00m\n\u001b[0;32m    229\u001b[0m \u001b[39m# use auto_suggest and redirect to get the correct article\u001b[39;00m\n\u001b[0;32m    230\u001b[0m \u001b[39m# also, use page's error checking to raise DisambiguationError if necessary\u001b[39;00m\n\u001b[1;32m--> 231\u001b[0m page_info \u001b[39m=\u001b[39m page(title, auto_suggest\u001b[39m=\u001b[39;49mauto_suggest, redirect\u001b[39m=\u001b[39;49mredirect)\n\u001b[0;32m    232\u001b[0m title \u001b[39m=\u001b[39m page_info\u001b[39m.\u001b[39mtitle\n\u001b[0;32m    233\u001b[0m pageid \u001b[39m=\u001b[39m page_info\u001b[39m.\u001b[39mpageid\n",
      "File \u001b[1;32m~\\AppData\\Local\\Packages\\PythonSoftwareFoundation.Python.3.11_qbz5n2kfra8p0\\LocalCache\\local-packages\\Python311\\site-packages\\wikipedia\\wikipedia.py:270\u001b[0m, in \u001b[0;36mpage\u001b[1;34m(title, pageid, auto_suggest, redirect, preload)\u001b[0m\n\u001b[0;32m    268\u001b[0m \u001b[39mif\u001b[39;00m title \u001b[39mis\u001b[39;00m \u001b[39mnot\u001b[39;00m \u001b[39mNone\u001b[39;00m:\n\u001b[0;32m    269\u001b[0m   \u001b[39mif\u001b[39;00m auto_suggest:\n\u001b[1;32m--> 270\u001b[0m     results, suggestion \u001b[39m=\u001b[39m search(title, results\u001b[39m=\u001b[39;49m\u001b[39m1\u001b[39;49m, suggestion\u001b[39m=\u001b[39;49m\u001b[39mTrue\u001b[39;49;00m)\n\u001b[0;32m    271\u001b[0m     \u001b[39mtry\u001b[39;00m:\n\u001b[0;32m    272\u001b[0m       title \u001b[39m=\u001b[39m suggestion \u001b[39mor\u001b[39;00m results[\u001b[39m0\u001b[39m]\n",
      "File \u001b[1;32m~\\AppData\\Local\\Packages\\PythonSoftwareFoundation.Python.3.11_qbz5n2kfra8p0\\LocalCache\\local-packages\\Python311\\site-packages\\wikipedia\\util.py:28\u001b[0m, in \u001b[0;36mcache.__call__\u001b[1;34m(self, *args, **kwargs)\u001b[0m\n\u001b[0;32m     26\u001b[0m   ret \u001b[39m=\u001b[39m \u001b[39mself\u001b[39m\u001b[39m.\u001b[39m_cache[key]\n\u001b[0;32m     27\u001b[0m \u001b[39melse\u001b[39;00m:\n\u001b[1;32m---> 28\u001b[0m   ret \u001b[39m=\u001b[39m \u001b[39mself\u001b[39m\u001b[39m.\u001b[39m_cache[key] \u001b[39m=\u001b[39m \u001b[39mself\u001b[39;49m\u001b[39m.\u001b[39;49mfn(\u001b[39m*\u001b[39;49margs, \u001b[39m*\u001b[39;49m\u001b[39m*\u001b[39;49mkwargs)\n\u001b[0;32m     30\u001b[0m \u001b[39mreturn\u001b[39;00m ret\n",
      "File \u001b[1;32m~\\AppData\\Local\\Packages\\PythonSoftwareFoundation.Python.3.11_qbz5n2kfra8p0\\LocalCache\\local-packages\\Python311\\site-packages\\wikipedia\\wikipedia.py:109\u001b[0m, in \u001b[0;36msearch\u001b[1;34m(query, results, suggestion)\u001b[0m\n\u001b[0;32m    107\u001b[0m     \u001b[39mraise\u001b[39;00m HTTPTimeoutError(query)\n\u001b[0;32m    108\u001b[0m   \u001b[39melse\u001b[39;00m:\n\u001b[1;32m--> 109\u001b[0m     \u001b[39mraise\u001b[39;00m WikipediaException(raw_results[\u001b[39m'\u001b[39m\u001b[39merror\u001b[39m\u001b[39m'\u001b[39m][\u001b[39m'\u001b[39m\u001b[39minfo\u001b[39m\u001b[39m'\u001b[39m])\n\u001b[0;32m    111\u001b[0m search_results \u001b[39m=\u001b[39m (d[\u001b[39m'\u001b[39m\u001b[39mtitle\u001b[39m\u001b[39m'\u001b[39m] \u001b[39mfor\u001b[39;00m d \u001b[39min\u001b[39;00m raw_results[\u001b[39m'\u001b[39m\u001b[39mquery\u001b[39m\u001b[39m'\u001b[39m][\u001b[39m'\u001b[39m\u001b[39msearch\u001b[39m\u001b[39m'\u001b[39m])\n\u001b[0;32m    113\u001b[0m \u001b[39mif\u001b[39;00m suggestion:\n",
      "\u001b[1;31mWikipediaException\u001b[0m: An unknown error occured: \"The \"srsearch\" parameter must be set.\". Please report it on GitHub!"
     ]
    }
   ],
   "source": [
    "#Calling the functions that were already created\n",
    "if __name__ == '__main__':\n",
    "\tclear = lambda: os.system('cls')\n",
    "\tclear()\n",
    "\twishMe()\n",
    "\tusername()\n",
    "\t\n",
    "\twhile True:\n",
    "\t\t\n",
    "\t\tquery = takeCommand().lower()\n",
    "\t\t\n",
    "\t\t# All the commands said by user will be stored here in 'query' and will be converted to lower case for easy recognition of command\n",
    "\t\tif 'wikipedia' in query:\n",
    "\t\t\tspeak('Searching Wikipedia...')\n",
    "\t\t\tquery = query.replace(\"wikipedia\", \"\")\n",
    "\t\t\tresults = wikipedia.summary(query, sentences = 3)\n",
    "\t\t\tspeak(\"According to Wikipedia\")\n",
    "\t\t\tprint(results)\n",
    "\t\t\tspeak(results)\n",
    "\n",
    "\t\telif 'open youtube' in query:\n",
    "\t\t\tspeak(\"Here you go to Youtube\\n\")\n",
    "\t\t\twebbrowser.open(\"youtube.com\")\n",
    "\n",
    "\t\telif 'open google' in query:\n",
    "\t\t\tspeak(\"Here you go to Google\\n\")\n",
    "\t\t\twebbrowser.open(\"google.co.in\")\n",
    "\n",
    "\t\telif 'open stackoverflow' in query:\n",
    "\t\t\tspeak(\"Here you go to Stack Over flow.Happy coding\")\n",
    "\t\t\twebbrowser.open(\"stackoverflow.com\")\n",
    "\n",
    "\t\t# elif 'play music' in query or \"play song\" in query:\n",
    "\t\t# \tspeak(\"Here you go\")\n",
    "\t\t# \tmusic_dir = \"C:/Users/DHIWAHAR_K/Music\"\n",
    "\t\t# \tsongs = os.listdir(music_dir)\n",
    "\t\t# \tprint(songs)\n",
    "\t\t# \trandom = os.startfile(os.path.join(music_dir, songs[1]))\n",
    "\n",
    "\t\telif 'tell time' in query:\n",
    "\t\t\tTime = str(datetime.datetime.now())\n",
    "\t\t\tspeak(Time)\n",
    "\n",
    "\t\t# elif 'open brave' in query:\n",
    "\t\t# \tcodePath = r\"C:/Program Files/BraveSoftware/Brave-Browser/Application/brave.exe\"\n",
    "\t\t# \tos.startfile(codePath)\n",
    "\n",
    "\t\t# elif 'email to dhiwahar' in query:\n",
    "\t\t# \ttry:\n",
    "\t\t# \t\tspeak(\"What should I say?\")\n",
    "\t\t# \t\tcontent = takeCommand()\n",
    "\t\t# \t\tto = \"Receiver email address\"\n",
    "\t\t# \t\tsendEmail(to, content)\n",
    "\t\t# \t\tspeak(\"Email has been sent !\")\n",
    "\t\t# \texcept Exception as e:\n",
    "\t\t# \t\tprint(e)\n",
    "\t\t# \t\tspeak(\"I am not able to send this email\")\n",
    "\n",
    "\t\t# elif 'send a mail' in query:\n",
    "\t\t# \ttry:\n",
    "\t\t# \t\tspeak(\"What should I say?\")\n",
    "\t\t# \t\tcontent = takeCommand()\n",
    "\t\t# \t\tspeak(\"whome should i send\")\n",
    "\t\t# \t\tto = input()\n",
    "\t\t# \t\tsendEmail(to, content)\n",
    "\t\t# \t\tspeak(\"Email has been sent !\")\n",
    "\t\t# \texcept Exception as e:\n",
    "\t\t# \t\tprint(e)\n",
    "\t\t# \t\tspeak(\"I am not able to send this email\")\n",
    "\n",
    "\t\telif 'how are you' in query:\n",
    "\t\t\tspeak(\"I am fine, Thank you\")\n",
    "\t\t\tspeak(\"How are you, Sir\")\n",
    "\n",
    "\t\telif 'fine' in query or \"good\" in query:\n",
    "\t\t\tspeak(\"It's good to know that your fine\")\n",
    "\n",
    "\t\telif \"change my name to\" in query:\n",
    "\t\t\tquery = query.replace(\"change my name to\", \"\")\n",
    "\t\t\tassname = query\n",
    "\n",
    "\t\telif \"change name\" in query:\n",
    "\t\t\tspeak(\"What would you like to call me, Sir \")\n",
    "\t\t\tassname = takeCommand()\n",
    "\t\t\tspeak(\"Thanks for naming me\")\n",
    "\n",
    "\t\telif \"what is your name\" in query:\n",
    "\t\t\tspeak(\"people call me Hope\")\n",
    "\t\t\tprint(\"people call me Hope\")\n",
    "\n",
    "\t\telif 'exit' in query:\n",
    "\t\t\tspeak(\"Thanks for giving me your time\")\n",
    "\t\t\texit()\n",
    "\n",
    "\t\telif \"who made you\" in query or \"who created you\" in query:\n",
    "\t\t\tspeak(\"I have been created by my master\")\n",
    "\t\t\t\n",
    "\t\telif 'tell me a joke' in query:\n",
    "\t\t\tspeak(pyjokes.get_joke())\n",
    "\t\t\t\n",
    "\t\t# elif \"calculate\" in query:\n",
    "\t\t\t\n",
    "\t\t# \tapp_id = \"Wolframalpha api id\"\n",
    "\t\t# \tclient = wolframalpha.Client(app_id)\n",
    "\t\t# \tindx = query.lower().split().index('calculate')\n",
    "\t\t# \tquery = query.split()[indx + 1:]\n",
    "\t\t# \tres = client.query(' '.join(query))\n",
    "\t\t# \tanswer = next(res.results).text\n",
    "\t\t# \tprint(\"The answer is \" + answer)\n",
    "\t\t# \tspeak(\"The answer is \" + answer)\n",
    "\n",
    "\t\telif 'search' in query:\n",
    "\t\t\t\n",
    "\t\t\tquery = query.replace(\"search\", \"\")\t\t\n",
    "\t\t\twebbrowser.open(query)\n",
    "\n",
    "\t\telif \"Who am I\" in query:\n",
    "\t\t\tspeak(\"If you talk then definitely your human.\")\n",
    "\n",
    "\t\telif \"Why did you come to this world?\" in query:\n",
    "\t\t\tspeak(\"Thanks to my master apart from that It's a secret\")\n",
    "\n",
    "\t\telif 'open power point presentation' in query:\n",
    "\t\t\tspeak(\"opening Power Point presentation\")\n",
    "\t\t\tpower = r\"C:/ProgramData/Microsoft/Windows/Start Menu/Programs/PowerPoint.lnk\"\n",
    "\t\t\tos.startfile(power)\n",
    "\n",
    "\t\telif 'what is love' in query:\n",
    "\t\t\tspeak(\"It is 7th sense that destroy all other senses\")\n",
    "\n",
    "\t\telif \"who are you\" in query:\n",
    "\t\t\tspeak(\"I am your virtual assistant\")\n",
    "\n",
    "\t\t# elif 'change background' in query:\n",
    "\t\t# \tctypes.windll.user32.SystemParametersInfoW(20,0,\"Location of wallpaper\",0)\n",
    "\t\t# \tspeak(\"Background changed successfully\")\n",
    "\n",
    "\t\telif 'news' in query:\n",
    "\t\t\t\n",
    "\t\t\ttry:\n",
    "\t\t\t\tjsonObj = urlopen('''https://newsapi.org / v1 / articles?source = the-times-of-india&sortBy = top&apiKey =\\\\times of India Api key\\\\''')\n",
    "\t\t\t\tdata = json.load(jsonObj)\n",
    "\t\t\t\ti = 1\n",
    "\t\t\t\t\n",
    "\t\t\t\tspeak('here are some top news from the times of india')\n",
    "\t\t\t\tprint('''=============== TIMES OF INDIA ============'''+ '\\n')\n",
    "\t\t\t\t\n",
    "\t\t\t\tfor item in data['articles']:\n",
    "\t\t\t\t\t\n",
    "\t\t\t\t\tprint(str(i) + '. ' + item['title'] + '\\n')\n",
    "\t\t\t\t\tprint(item['description'] + '\\n')\n",
    "\t\t\t\t\tspeak(str(i) + '. ' + item['title'] + '\\n')\n",
    "\t\t\t\t\ti += 1\n",
    "\t\t\texcept Exception as e:\n",
    "\t\t\t\t\n",
    "\t\t\t\tprint(str(e))\n",
    "\n",
    "\t\t\n",
    "\t\telif 'lock window' in query:\n",
    "\t\t\t\tspeak(\"locking the device\")\n",
    "\t\t\t\tctypes.windll.user32.LockWorkStation()\n",
    "\n",
    "\t\telif 'shutdown system' in query:\n",
    "\t\t\t\tspeak(\"Hold On a Sec ! Your system is on its way to shut down\")\n",
    "\t\t\t\tos.system(\"shutdown /s /t 1\")\n",
    "\t\t\t\t\n",
    "\t\telif 'empty recycle bin' in query:\n",
    "\t\t\twinshell.recycle_bin().empty(confirm = False, show_progress = False, sound = True)\n",
    "\t\t\tspeak(\"Recycle Bin Recycled\")\n",
    "\n",
    "\t\telif \"don't listen\" in query or \"stop listening\" in query:\n",
    "\t\t\tspeak(\"how long do you want me to stop listening\")\n",
    "\t\t\ta = int(takeCommand())\n",
    "\t\t\ttime.sleep(a)\n",
    "\t\t\tprint(a)\n",
    "\n",
    "\t\telif \"where is\" in query:\n",
    "\t\t\tquery = query.replace(\"where is\", \"\")\n",
    "\t\t\tlocation = query\n",
    "\t\t\tspeak(\"User asked to Locate\")\n",
    "\t\t\tspeak(location)\n",
    "\t\t\twebbrowser.open(\"https://www.google.co.in / maps / place/\" + location + \"\")\n",
    "\n",
    "\t\telif \"camera\" in query or \"take a photo\" in query:\n",
    "\t\t\tec.capture(0, \"Hope Camera\", \"img.jpg\")\n",
    "\n",
    "\t\telif \"restart\" in query:\n",
    "\t\t\tos.system(\"shutdown /r /t 1\")\n",
    "\t\t\t\n",
    "\t\telif \"hibernate\" in query or \"sleep\" in query:\n",
    "\t\t\tspeak(\"Hibernating\")\n",
    "\t\t\tsubprocess.call(\"shutdown /h /t 1\")\n",
    "\n",
    "\t\telif \"log off\" in query or \"sign out\" in query:\n",
    "\t\t\tspeak(\"Make sure all the application are closed before sign-out\")\n",
    "\t\t\ttime.sleep(5)\n",
    "\t\t\tsubprocess.call([\"shutdown\", \"/l\"])\n",
    "\n",
    "\t\telif \"write a note\" in query:\n",
    "\t\t\tspeak(\"What do you want me to write, sir\")\n",
    "\t\t\tnote = takeCommand()\n",
    "\t\t\tfile = open('note.txt', 'w')\n",
    "\t\t\tspeak(\"Sir, Should i include date and time\")\n",
    "\t\t\tsnfm = takeCommand()\n",
    "\t\t\tif 'yes' in snfm or 'sure' in snfm:\n",
    "\t\t\t\tstrTime = datetime.datetime.now().strftime(\"% H:% M:% S\")\n",
    "\t\t\t\tfile.write(strTime)\n",
    "\t\t\t\tfile.write(\" :- \")\n",
    "\t\t\t\tfile.write(note)\n",
    "\t\t\telse:\n",
    "\t\t\t\tfile.write(note)\n",
    "\t\t\n",
    "\t\telif \"show note\" in query:\n",
    "\t\t\tspeak(\"Showing Notes\")\n",
    "\t\t\tfile = open(\"note.txt\", \"r\")\n",
    "\t\t\tprint(file.read())\n",
    "\t\t\tspeak(file.read(6))\n",
    "\n",
    "\t\t# elif \"update assistant\" in query:\n",
    "\t\t# \tspeak(\"After downloading file please replace this file with the downloaded one\")\n",
    "\t\t# \turl = '# url after uploading file'\n",
    "\t\t# \tr = requests.get(url, stream = True)\n",
    "\t\t\t\n",
    "\t\t\twith open(\"Voice.py\", \"wb\") as Pypdf:\n",
    "\t\t\t\t\n",
    "\t\t\t\ttotal_length = int(r.headers.get('content-length'))\n",
    "\t\t\t\t\n",
    "\t\t\t\tfor ch in progress.bar(r.iter_content(chunk_size = 2391975),\n",
    "\t\t\t\t\t\t\t\t\texpected_size =(total_length / 1024) + 1):\n",
    "\t\t\t\t\tif ch:\n",
    "\t\t\t\t\t   Pypdf.write(ch)\n",
    "\t\t\t\t\t\n",
    "\t\t# NPPR9-FWDCX-D2C8J-H872K-2YT43\n",
    "elif \"Friday\" in query:\n",
    "\t\t\t\n",
    "\t\t\twishMe()\n",
    "\t\t\tspeak(\"Friday at your service\")\n",
    "\t\t\tspeak(assname)\n",
    "\n",
    "elif \"what is the weather\" in query:\n",
    "\t\t\t\n",
    "\t\t\t# Google Open weather website\n",
    "\t\t\t# to get API of Open weather\n",
    "\t\t\tapi_key = \"Api key\"\n",
    "\t\t\tbase_url = \"http://api.openweathermap.org / data / 2.5 / weather?\"\n",
    "\t\t\tspeak(\" City name \")\n",
    "\t\t\tprint(\"City name : \")\n",
    "\t\t\tcity_name = takeCommand()\n",
    "\t\t\tcomplete_url = base_url + \"appid =\" + api_key + \"&q =\" + city_name\n",
    "\t\t\tresponse = requests.get(complete_url)\n",
    "\t\t\tx = response.json()\n",
    "\t\t\t\n",
    "\t\t\tif x[\"code\"] != \"404\":\n",
    "\t\t\t\ty = x[\"main\"]\n",
    "\t\t\t\tcurrent_temperature = y[\"temp\"]\n",
    "\t\t\t\tcurrent_pressure = y[\"pressure\"]\n",
    "\t\t\t\tcurrent_humidiy = y[\"humidity\"]\n",
    "\t\t\t\tz = x[\"weather\"]\n",
    "\t\t\t\tweather_description = z[0][\"description\"]\n",
    "\t\t\t\tprint(\" Temperature (in kelvin unit) = \" +str(current_temperature)+\"\\n atmospheric pressure (in hPa unit) =\"+str(current_pressure) +\"\\n humidity (in percentage) = \" +str(current_humidiy) +\"\\n description = \" +str(weather_description))\n",
    "\t\t\t\n",
    "\t\t\telse:\n",
    "\t\t\t\tspeak(\"currently unavailable\")\n",
    "\t\t\t\n",
    "\t\t# elif \"send message \" in query:\n",
    "\t\t# \t\t# You need to create an account on Twilio to use this service\n",
    "\t\t# \t\taccount_sid = 'Account Sid key'\n",
    "\t\t# \t\tauth_token = 'Auth token'\n",
    "\t\t# \t\tclient = Client(account_sid, auth_token)\n",
    "\n",
    "\t\t# \t\tmessage = client.messages \\\n",
    "\t\t# \t\t\t\t\t\t.create(\n",
    "\t\t# \t\t\t\t\t\t\tbody = takeCommand(),\n",
    "\t\t# \t\t\t\t\t\t\tfrom_='Sender No',\n",
    "\t\t# \t\t\t\t\t\t\tto ='Receiver No'\n",
    "\t\t# \t\t\t\t\t\t)\n",
    "\n",
    "\t\t# \t\tprint(message.sid)\n",
    "\n",
    "elif \"wikipedia\" in query:\n",
    "\t\t\twebbrowser.open(\"wikipedia.com\")\n",
    "\n",
    "elif \"Good Morning\" in query:\n",
    "\t\t\tspeak(\"A very\" +query)\n",
    "\t\t\tspeak(\"How are you sir\")\n",
    "\t\t\tspeak(assname)\n",
    "\n",
    "\t\t# most asked question from google Assistant\n",
    "elif \"will you be my gf\" in query or \"will you be my bf\" in query:\n",
    "\t\t\tspeak(\"I'm not sure about that, may be you should give me some time\")\n",
    "\n",
    "elif \"how are you\" in query:\n",
    "\t\t\tspeak(\"I'm fine, glad you me that\")\n",
    "\n",
    "elif \"I love you\" in query:\n",
    "\t\t\tspeak(\"It's hard to understand\")\n",
    "\n",
    "\t\t# elif \"what is\" in query or \"who is\" in query:\n",
    "\t\t\t\n",
    "\t\t# \t# Use the same API key\n",
    "\t\t# \t# that we have generated earlier\n",
    "\t\t# \tclient = wolframalpha.Client(\"API_ID\")\n",
    "\t\t# \tres = client.query(query)\n",
    "\t\t\t\n",
    "\t\t# \ttry:\n",
    "\t\t# \t\tprint (next(res.results).text)\n",
    "\t\t# \t\tspeak (next(res.results).text)\n",
    "\t\t# \texcept StopIteration:\n",
    "\t\t# \t\tprint (\"No results\")\n",
    "\n",
    "\t\t# elif \"\" in query:\n",
    "\t\t\t# Command go here\n",
    "\t\t\t# For adding more commands\n"
   ]
  },
  {
   "cell_type": "code",
   "execution_count": null,
   "metadata": {},
   "outputs": [
    {
     "name": "stdout",
     "output_type": "stream",
     "text": [
      "Requirement already satisfied: pyAudio in c:\\users\\saipr\\appdata\\local\\packages\\pythonsoftwarefoundation.python.3.11_qbz5n2kfra8p0\\localcache\\local-packages\\python311\\site-packages (0.2.13)\n",
      "Note: you may need to restart the kernel to use updated packages.\n"
     ]
    }
   ],
   "source": [
    "pip install pyAudio"
   ]
  }
 ],
 "metadata": {
  "kernelspec": {
   "display_name": "base",
   "language": "python",
   "name": "python3"
  },
  "language_info": {
   "codemirror_mode": {
    "name": "ipython",
    "version": 3
   },
   "file_extension": ".py",
   "mimetype": "text/x-python",
   "name": "python",
   "nbconvert_exporter": "python",
   "pygments_lexer": "ipython3",
   "version": "3.11.2"
  },
  "orig_nbformat": 4,
  "vscode": {
   "interpreter": {
    "hash": "10c542869f0b0834b63b719c5ea9ac88057395eca5e0193421a6477b09d99687"
   }
  }
 },
 "nbformat": 4,
 "nbformat_minor": 2
}
